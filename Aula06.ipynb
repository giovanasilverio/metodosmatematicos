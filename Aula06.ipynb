{
 "cells": [
  {
   "attachments": {},
   "cell_type": "markdown",
   "metadata": {},
   "source": [
    "## Distribuição Binomial \n",
    "Na distribuição binomial temos sempre duas possibilidades de resultado (sucesso ou fracasso, cara ou coroa, etc.). Podemos então utilizar a distribuição binomial para simular o lançamento de uma moeda."
   ]
  },
  {
   "cell_type": "code",
   "execution_count": 45,
   "metadata": {},
   "outputs": [
    {
     "data": {
      "text/plain": [
       "0"
      ]
     },
     "execution_count": 45,
     "metadata": {},
     "output_type": "execute_result"
    }
   ],
   "source": [
    "import numpy as np\n",
    "np.random.binomial(1, 0.5)"
   ]
  },
  {
   "attachments": {},
   "cell_type": "markdown",
   "metadata": {},
   "source": [
    "Como simular o lançamento de duas moedas?"
   ]
  },
  {
   "cell_type": "code",
   "execution_count": 46,
   "metadata": {},
   "outputs": [
    {
     "data": {
      "text/plain": [
       "2"
      ]
     },
     "execution_count": 46,
     "metadata": {},
     "output_type": "execute_result"
    }
   ],
   "source": [
    "np.random.binomial(2, 0.5)"
   ]
  },
  {
   "attachments": {},
   "cell_type": "markdown",
   "metadata": {},
   "source": [
    "E se eu quiser simular 1.000 lançamentos de duas moedas?"
   ]
  },
  {
   "cell_type": "code",
   "execution_count": 47,
   "metadata": {},
   "outputs": [
    {
     "data": {
      "text/plain": [
       "array([1, 0, 0, 1, 1, 1, 1, 0, 1, 0, 2, 1, 1, 0, 1, 1, 2, 1, 2, 2, 1, 2,\n",
       "       2, 2, 1, 0, 2, 1, 1, 1, 1, 0, 0, 1, 2, 1, 1, 1, 1, 1, 1, 1, 1, 1,\n",
       "       1, 1, 1, 0, 2, 0, 2, 1, 1, 1, 1, 1, 2, 1, 2, 2, 2, 1, 0, 1, 0, 0,\n",
       "       2, 2, 2, 1, 1, 2, 0, 0, 1, 0, 0, 1, 1, 0, 0, 1, 1, 0, 1, 1, 2, 0,\n",
       "       2, 1, 0, 1, 1, 1, 1, 2, 0, 0, 1, 1, 0, 2, 1, 0, 0, 2, 1, 1, 1, 1,\n",
       "       1, 0, 1, 1, 1, 1, 0, 1, 2, 1, 2, 2, 1, 2, 0, 0, 0, 1, 1, 0, 0, 0,\n",
       "       1, 2, 2, 2, 2, 1, 2, 2, 0, 1, 0, 1, 1, 1, 1, 2, 0, 0, 0, 2, 0, 0,\n",
       "       1, 1, 2, 0, 2, 1, 2, 0, 1, 1, 1, 0, 2, 2, 0, 0, 1, 1, 0, 1, 1, 1,\n",
       "       1, 1, 2, 1, 1, 2, 2, 1, 0, 1, 1, 2, 2, 2, 2, 2, 1, 1, 0, 0, 1, 1,\n",
       "       0, 1, 2, 2, 1, 2, 1, 0, 1, 1, 0, 1, 2, 1, 1, 1, 1, 1, 1, 0, 1, 0,\n",
       "       0, 2, 0, 2, 1, 1, 1, 1, 0, 2, 2, 1, 1, 2, 2, 2, 1, 0, 1, 1, 1, 1,\n",
       "       1, 1, 1, 0, 1, 1, 1, 1, 2, 1, 2, 2, 2, 2, 0, 1, 2, 1, 0, 2, 0, 1,\n",
       "       1, 1, 2, 0, 1, 0, 1, 2, 1, 2, 1, 0, 1, 1, 1, 1, 1, 1, 2, 2, 2, 2,\n",
       "       2, 2, 0, 1, 1, 1, 0, 1, 0, 2, 0, 1, 0, 2, 2, 1, 1, 2, 1, 0, 0, 1,\n",
       "       1, 1, 1, 2, 1, 1, 1, 0, 2, 1, 1, 1, 1, 1, 0, 1, 1, 0, 0, 1, 2, 1,\n",
       "       1, 0, 1, 2, 1, 0, 1, 1, 1, 1, 2, 1, 1, 2, 2, 0, 0, 1, 1, 1, 0, 1,\n",
       "       1, 1, 1, 2, 0, 1, 1, 1, 2, 2, 1, 2, 2, 1, 1, 0, 1, 0, 0, 0, 0, 2,\n",
       "       1, 2, 1, 2, 1, 1, 1, 1, 1, 1, 1, 0, 0, 1, 1, 1, 2, 2, 1, 1, 2, 1,\n",
       "       1, 0, 0, 2, 2, 1, 2, 1, 1, 1, 1, 2, 0, 1, 0, 1, 0, 2, 1, 2, 1, 1,\n",
       "       1, 1, 1, 2, 0, 0, 1, 2, 1, 1, 1, 0, 1, 1, 2, 1, 2, 2, 1, 1, 0, 1,\n",
       "       1, 2, 0, 1, 1, 2, 1, 1, 0, 0, 1, 1, 1, 1, 2, 2, 0, 1, 1, 2, 1, 1,\n",
       "       1, 2, 2, 0, 1, 2, 1, 1, 2, 1, 0, 1, 0, 1, 1, 2, 2, 0, 1, 1, 1, 1,\n",
       "       1, 1, 2, 1, 1, 0, 1, 0, 1, 1, 2, 1, 1, 1, 1, 1, 1, 1, 0, 1, 0, 0,\n",
       "       0, 1, 0, 2, 1, 1, 2, 2, 1, 1, 0, 1, 1, 1, 0, 1, 2, 0, 1, 1, 0, 1,\n",
       "       1, 2, 0, 1, 1, 1, 1, 1, 0, 0, 1, 0, 2, 1, 1, 1, 0, 0, 1, 0, 1, 1,\n",
       "       1, 1, 2, 1, 1, 1, 1, 2, 1, 2, 1, 2, 2, 2, 2, 0, 1, 1, 1, 0, 0, 1,\n",
       "       2, 0, 1, 1, 1, 0, 2, 1, 2, 2, 0, 1, 1, 1, 1, 2, 1, 2, 1, 1, 0, 1,\n",
       "       2, 1, 0, 2, 1, 0, 1, 1, 1, 1, 0, 0, 2, 1, 0, 2, 1, 1, 0, 1, 0, 2,\n",
       "       1, 2, 1, 1, 0, 1, 1, 0, 2, 2, 2, 2, 1, 0, 1, 0, 1, 1, 2, 1, 1, 2,\n",
       "       1, 0, 1, 1, 2, 1, 1, 0, 1, 2, 2, 1, 1, 1, 1, 1, 1, 2, 2, 1, 1, 1,\n",
       "       0, 1, 2, 1, 2, 0, 2, 2, 1, 1, 1, 1, 0, 1, 1, 2, 2, 0, 1, 1, 1, 1,\n",
       "       0, 2, 0, 2, 2, 2, 2, 0, 0, 1, 1, 1, 0, 2, 1, 1, 1, 1, 2, 1, 0, 1,\n",
       "       1, 0, 2, 1, 2, 0, 0, 1, 1, 1, 0, 0, 1, 0, 2, 2, 1, 0, 1, 0, 1, 2,\n",
       "       0, 0, 0, 1, 2, 1, 0, 2, 2, 1, 2, 2, 0, 0, 0, 1, 0, 0, 2, 0, 2, 0,\n",
       "       1, 2, 2, 1, 1, 1, 1, 1, 1, 2, 1, 0, 1, 0, 1, 1, 1, 1, 1, 1, 1, 1,\n",
       "       0, 1, 2, 0, 0, 1, 1, 0, 0, 1, 1, 0, 1, 2, 1, 2, 1, 0, 2, 0, 0, 1,\n",
       "       0, 1, 1, 1, 2, 1, 1, 2, 0, 0, 2, 1, 1, 0, 2, 2, 1, 1, 0, 1, 0, 1,\n",
       "       1, 1, 1, 0, 0, 1, 1, 1, 1, 2, 0, 1, 0, 1, 1, 1, 1, 2, 0, 2, 1, 1,\n",
       "       1, 1, 1, 2, 1, 1, 1, 2, 2, 1, 1, 2, 1, 2, 0, 1, 1, 1, 1, 2, 1, 2,\n",
       "       1, 1, 2, 1, 1, 0, 1, 1, 0, 1, 1, 2, 1, 1, 1, 1, 2, 1, 0, 0, 1, 2,\n",
       "       1, 2, 2, 0, 1, 0, 2, 1, 2, 0, 1, 1, 1, 0, 0, 1, 2, 1, 0, 2, 1, 1,\n",
       "       1, 1, 1, 1, 1, 1, 1, 1, 0, 1, 1, 1, 1, 0, 0, 0, 1, 0, 0, 0, 1, 0,\n",
       "       1, 1, 1, 1, 2, 1, 2, 0, 0, 1, 0, 0, 1, 1, 1, 1, 0, 1, 1, 2, 2, 0,\n",
       "       1, 2, 0, 2, 0, 2, 1, 0, 0, 1, 0, 1, 1, 1, 0, 1, 0, 0, 0, 1, 1, 1,\n",
       "       1, 2, 1, 1, 1, 0, 1, 1, 0, 0, 2, 1, 1, 2, 0, 2, 1, 2, 0, 0, 2, 1,\n",
       "       1, 1, 2, 0, 1, 1, 2, 1, 1, 2])"
      ]
     },
     "execution_count": 47,
     "metadata": {},
     "output_type": "execute_result"
    }
   ],
   "source": [
    "np.random.binomial(2, 0.5, 1000)"
   ]
  },
  {
   "attachments": {},
   "cell_type": "markdown",
   "metadata": {},
   "source": [
    "Vamos agora guardar o resultado obtido numa variável e analisar esse resultado. Vimos, na parte teórica que se lançarmos duas moedas temos as seguintes probabilidades: \\\n",
    "0 caras -> P(0) = 0,25 \\\n",
    "1 cara  -> P(1) = 0,5 \\\n",
    "2 caras -> P(2) = 0,25 \\\n",
    "Vamos plotar o resultado de 1.000 lançamentos e analisar esse resultado."
   ]
  },
  {
   "cell_type": "code",
   "execution_count": 48,
   "metadata": {},
   "outputs": [
    {
     "data": {
      "text/plain": [
       "<Axes: ylabel='count'>"
      ]
     },
     "execution_count": 48,
     "metadata": {},
     "output_type": "execute_result"
    },
    {
     "data": {
      "image/png": "[encoded data removed]",
      "text/plain": [
       "<Figure size 640x480 with 1 Axes>"
      ]
     },
     "metadata": {},
     "output_type": "display_data"
    }
   ],
   "source": [
    "mil = np.random.binomial(2, 0.5, 1000)\n",
    "import matplotlib as plt\n",
    "import seaborn as sns\n",
    "sns.set_theme(style='whitegrid')\n",
    "sns.countplot(x=mil)"
   ]
  },
  {
   "attachments": {},
   "cell_type": "markdown",
   "metadata": {},
   "source": [
    "Vamos agora simular mil jogos de 10 moedas."
   ]
  },
  {
   "cell_type": "code",
   "execution_count": 49,
   "metadata": {},
   "outputs": [
    {
     "data": {
      "text/plain": [
       "<Axes: ylabel='count'>"
      ]
     },
     "execution_count": 49,
     "metadata": {},
     "output_type": "execute_result"
    },
    {
     "data": {
      "image/png": "[encoded data removed]",
      "text/plain": [
       "<Figure size 640x480 with 1 Axes>"
      ]
     },
     "metadata": {},
     "output_type": "display_data"
    }
   ],
   "source": [
    "mil_jogos = np.random.binomial(10, 0.5, 1000)\n",
    "import matplotlib as plt\n",
    "import seaborn as sns\n",
    "sns.set_theme(style='whitegrid')\n",
    "sns.countplot(x=mil_jogos)"
   ]
  },
  {
   "attachments": {},
   "cell_type": "markdown",
   "metadata": {},
   "source": [
    "Considere agora o seguinte problema: \\\n",
    "Uma manufatura tem uma taxa de defeitos de 12% na sua produção. Um comprador decide testar uma amostra de 20 peças aleatórias e só comprará da manufatura se encontrar duas ou menos peças defeituosas na amostra. Qual é a probabilidade de que a compra ocorra?"
   ]
  },
  {
   "attachments": {},
   "cell_type": "markdown",
   "metadata": {},
   "source": [
    "Na parte teórica, vimos que existem fórmulas matemáticas para realizar este cálculo. A linguagem Python provê o pacote SciPy para realizar esses cálculos. Veremos a seguir como usar o Scipy para resolver o problema acima."
   ]
  },
  {
   "cell_type": "code",
   "execution_count": 50,
   "metadata": {},
   "outputs": [],
   "source": [
    "from scipy.stats import binom"
   ]
  },
  {
   "attachments": {},
   "cell_type": "markdown",
   "metadata": {},
   "source": [
    "Para obter a probabilidade de que a compra ocorra, vamos utilizar a função cdf -- cumulative distribution function. Estamos usando essa função porque queremos calcular a probabilidade de termos até 2 peças defeituosas, ou seja, P(0) + P(1) + P(2) => portanto estamos acumulando (somando) as probabilidades. \\\n",
    "A função cdf tem 3 parâmetros: \\\n",
    "k - número máximo de peças defeituosas (cumulativo) \\\n",
    "n - número de peças da amostra \\\n",
    "p - probabilidade de peças defeituosas "
   ]
  },
  {
   "cell_type": "code",
   "execution_count": 51,
   "metadata": {},
   "outputs": [
    {
     "data": {
      "text/plain": [
       "0.5631"
      ]
     },
     "execution_count": 51,
     "metadata": {},
     "output_type": "execute_result"
    }
   ],
   "source": [
    "round(binom.cdf(2, 20, 0.12), 4) #round é o numero de casas decimais"
   ]
  },
  {
   "attachments": {},
   "cell_type": "markdown",
   "metadata": {},
   "source": [
    "E se quisermos descobrir a probabilidade de obtermos *exatamente* 2 peças defeituosas na amostra? \\\n",
    "Para tanto basta usar a função pmf -- probability mass function -- a qual tem os mesmos parâmetros que a função cdf."
   ]
  },
  {
   "cell_type": "code",
   "execution_count": 52,
   "metadata": {},
   "outputs": [
    {
     "data": {
      "text/plain": [
       "0.27403383702748796"
      ]
     },
     "execution_count": 52,
     "metadata": {},
     "output_type": "execute_result"
    }
   ],
   "source": [
    "binom.pmf(2, 20, 0.12)"
   ]
  },
  {
   "attachments": {},
   "cell_type": "markdown",
   "metadata": {},
   "source": [
    "Para calcularmos o número médio de peças defeituosas por amostra, basta usar a função mean, com os parâmetros n e p."
   ]
  },
  {
   "cell_type": "code",
   "execution_count": 53,
   "metadata": {},
   "outputs": [
    {
     "data": {
      "text/plain": [
       "2.4"
      ]
     },
     "execution_count": 53,
     "metadata": {},
     "output_type": "execute_result"
    }
   ],
   "source": [
    "binom.mean(20, 0.12)"
   ]
  },
  {
   "attachments": {},
   "cell_type": "markdown",
   "metadata": {},
   "source": [
    "De forma similar, podemos obter o desvio padrão e a variância com as funções std e var."
   ]
  },
  {
   "cell_type": "code",
   "execution_count": 54,
   "metadata": {},
   "outputs": [
    {
     "name": "stdout",
     "output_type": "stream",
     "text": [
      "0.07756279363818955\n",
      "0.211534891740517\n",
      "0.27403383702748796\n",
      "0.5631315224061946\n"
     ]
    }
   ],
   "source": [
    "p0 = binom.pmf(0, 20, 0.12)\n",
    "print(p0)\n",
    "p1 = binom.pmf(1, 20, 0.12)\n",
    "print(p1)\n",
    "p2 = binom.pmf(2, 20, 0.12)\n",
    "print(p2)\n",
    "soma = p0 + p1 + p2\n",
    "print(soma)\n"
   ]
  },
  {
   "cell_type": "code",
   "execution_count": 55,
   "metadata": {},
   "outputs": [
    {
     "data": {
      "text/plain": [
       "1.453272169966796"
      ]
     },
     "execution_count": 55,
     "metadata": {},
     "output_type": "execute_result"
    }
   ],
   "source": [
    "binom.std(20, 0.12)"
   ]
  },
  {
   "cell_type": "code",
   "execution_count": 56,
   "metadata": {},
   "outputs": [
    {
     "data": {
      "text/plain": [
       "2.112"
      ]
     },
     "execution_count": 56,
     "metadata": {},
     "output_type": "execute_result"
    }
   ],
   "source": [
    "binom.var(20, 0.12)"
   ]
  },
  {
   "attachments": {},
   "cell_type": "markdown",
   "metadata": {},
   "source": [
    "Suponha agora que queremos obter a probabilidade de obtermos 2 ou mais peças defeituosas na amostra. \\\n",
    "Existem duas possibilidades para isso: \n",
    "1) fazer 1 menos a probabilidade que calculamos \n",
    "2) utilizar a função sf -- survival function"
   ]
  },
  {
   "cell_type": "code",
   "execution_count": 57,
   "metadata": {},
   "outputs": [
    {
     "data": {
      "text/plain": [
       "0.4368684775938054"
      ]
     },
     "execution_count": 57,
     "metadata": {},
     "output_type": "execute_result"
    }
   ],
   "source": [
    "soma2 = 1 - soma\n",
    "soma2"
   ]
  },
  {
   "cell_type": "code",
   "execution_count": 58,
   "metadata": {},
   "outputs": [
    {
     "data": {
      "text/plain": [
       "0.4368684775938054"
      ]
     },
     "execution_count": 58,
     "metadata": {},
     "output_type": "execute_result"
    }
   ],
   "source": [
    "binom.sf(2, 20, 0.12)"
   ]
  },
  {
   "attachments": {},
   "cell_type": "markdown",
   "metadata": {},
   "source": [
    "Suponha agora que eu queira plotar um gráfico que mostre a probabilidade de ter 1, 2, 3, ... 20 peças defeituosas. Isto recebe o nome de distribuição de probabilidade. Vejamos como fazer isso."
   ]
  },
  {
   "cell_type": "code",
   "execution_count": 59,
   "metadata": {},
   "outputs": [
    {
     "name": "stdout",
     "output_type": "stream",
     "text": [
      "[ 0  1  2  3  4  5  6  7  8  9 10 11 12 13 14 15 16 17 18 19 20]\n"
     ]
    }
   ],
   "source": [
    "eixo_x = np.arange(0, 21)\n",
    "print(eixo_x)"
   ]
  },
  {
   "cell_type": "code",
   "execution_count": 60,
   "metadata": {},
   "outputs": [
    {
     "name": "stdout",
     "output_type": "stream",
     "text": [
      "0 - 0.08\n",
      "1 - 0.21\n",
      "2 - 0.27\n",
      "3 - 0.22\n",
      "4 - 0.13\n",
      "5 - 0.06\n",
      "6 - 0.02\n",
      "7 - 0.01\n",
      "8 - 0.00\n",
      "9 - 0.00\n",
      "10 - 0.00\n",
      "11 - 0.00\n",
      "12 - 0.00\n",
      "13 - 0.00\n",
      "14 - 0.00\n",
      "15 - 0.00\n",
      "16 - 0.00\n",
      "17 - 0.00\n",
      "18 - 0.00\n",
      "19 - 0.00\n"
     ]
    }
   ],
   "source": [
    "eixo_y = binom.pmf(eixo_x, 20, 0.12)\n",
    "for i in range(20):\n",
    "    print(f'{i} - {eixo_y[i]:.2f}')"
   ]
  },
  {
   "cell_type": "code",
   "execution_count": 64,
   "metadata": {},
   "outputs": [
    {
     "data": {
      "text/plain": [
       "<Axes: >"
      ]
     },
     "execution_count": 64,
     "metadata": {},
     "output_type": "execute_result"
    },
    {
     "data": {
      "image/png": "[encoded data removed]",
      "text/plain": [
       "<Figure size 640x480 with 1 Axes>"
      ]
     },
     "metadata": {},
     "output_type": "display_data"
    }
   ],
   "source": [
    "sns.set_theme(style='whitegrid')\n",
    "sns.barplot(x=eixo_x,y=eixo_y)"
   ]
  },
  {
   "attachments": {},
   "cell_type": "markdown",
   "metadata": {},
   "source": [
    "Podemos também fazer um gráfico mostrando a probabilidade cumulativa."
   ]
  },
  {
   "cell_type": "code",
   "execution_count": 72,
   "metadata": {},
   "outputs": [
    {
     "name": "stdout",
     "output_type": "stream",
     "text": [
      "0 - 0.08\n",
      "1 - 0.29\n",
      "2 - 0.56\n",
      "3 - 0.79\n",
      "4 - 0.92\n",
      "5 - 0.97\n",
      "6 - 0.99\n",
      "7 - 1.00\n",
      "8 - 1.00\n",
      "9 - 1.00\n",
      "10 - 1.00\n",
      "11 - 1.00\n",
      "12 - 1.00\n",
      "13 - 1.00\n",
      "14 - 1.00\n",
      "15 - 1.00\n",
      "16 - 1.00\n",
      "17 - 1.00\n",
      "18 - 1.00\n",
      "19 - 1.00\n"
     ]
    },
    {
     "data": {
      "text/plain": [
       "<Axes: >"
      ]
     },
     "execution_count": 72,
     "metadata": {},
     "output_type": "execute_result"
    },
    {
     "data": {
      "image/png": "[encoded data removed]",
      "text/plain": [
       "<Figure size 640x480 with 1 Axes>"
      ]
     },
     "metadata": {},
     "output_type": "display_data"
    }
   ],
   "source": [
    "eixo_y = binom.cdf(eixo_x, 20, 0.12)\n",
    "for i in range(20):\n",
    "    print(f'{i} - {eixo_y[i]:.2f}')\n",
    "sns.barplot(x=eixo_x,y=eixo_y)"
   ]
  },
  {
   "attachments": {},
   "cell_type": "markdown",
   "metadata": {},
   "source": [
    "Vamos agora realizar um experimento para confirmar as probabilidades calculadas. Inicialmente vamos analisar o resultado de 10 amostras e checar o número de peças defeituosas em cada amostra."
   ]
  },
  {
   "cell_type": "code",
   "execution_count": 73,
   "metadata": {},
   "outputs": [
    {
     "data": {
      "text/plain": [
       "array([0, 3, 2, 1, 3, 1, 2, 3, 2, 4])"
      ]
     },
     "execution_count": 73,
     "metadata": {},
     "output_type": "execute_result"
    }
   ],
   "source": [
    "vet = np.random.binomial(20, 0.12, 10)\n",
    "vet"
   ]
  },
  {
   "attachments": {},
   "cell_type": "markdown",
   "metadata": {},
   "source": [
    "Agora vamos gerar um vetor com o resultado de 1.000 amostras e utilizar esse vetor para plotar um gráfico."
   ]
  },
  {
   "cell_type": "code",
   "execution_count": 76,
   "metadata": {},
   "outputs": [
    {
     "data": {
      "text/plain": [
       "<Axes: ylabel='count'>"
      ]
     },
     "execution_count": 76,
     "metadata": {},
     "output_type": "execute_result"
    },
    {
     "data": {
      "image/png": "[encoded data removed]",
      "text/plain": [
       "<Figure size 640x480 with 1 Axes>"
      ]
     },
     "metadata": {},
     "output_type": "display_data"
    }
   ],
   "source": [
    "vetor = np.random.binomial(20, 0.12, 1000)\n",
    "sns.countplot(x=vetor)"
   ]
  },
  {
   "attachments": {},
   "cell_type": "markdown",
   "metadata": {},
   "source": [
    "Exercício 1 \\\n",
    "Se jogarmos uma moeda 10 vezes, qual é a probabilidade de aparecer exatamente 7 caras?"
   ]
  },
  {
   "cell_type": "code",
   "execution_count": 69,
   "metadata": {},
   "outputs": [
    {
     "name": "stdout",
     "output_type": "stream",
     "text": [
      "0.11718749999999999\n"
     ]
    }
   ],
   "source": [
    "prob = binom.pmf(7, 10, 0.5)\n",
    "print(prob)"
   ]
  },
  {
   "attachments": {},
   "cell_type": "markdown",
   "metadata": {},
   "source": [
    "Exercício 2 \\\n",
    "Se jogarmos uma moeda 10 vezes, qual é a probabilidade de aparecer exatamente 7 ou mais caras?"
   ]
  },
  {
   "cell_type": "code",
   "execution_count": 70,
   "metadata": {},
   "outputs": [
    {
     "name": "stdout",
     "output_type": "stream",
     "text": [
      "0.8828125\n"
     ]
    }
   ],
   "source": [
    "prob1 = 1 - prob\n",
    "print(prob1)"
   ]
  },
  {
   "attachments": {},
   "cell_type": "markdown",
   "metadata": {},
   "source": [
    "Exercício 3 \\\n",
    "4 peças foram selecionadas de um lote cuja probabilidade de defeito é de 10%. Qual é a probabilidade de termos 0 peças defeituosas na seleção?"
   ]
  },
  {
   "cell_type": "code",
   "execution_count": 79,
   "metadata": {},
   "outputs": [
    {
     "data": {
      "text/plain": [
       "0.6560999999999999"
      ]
     },
     "execution_count": 79,
     "metadata": {},
     "output_type": "execute_result"
    }
   ],
   "source": [
    "defeito = binom.cdf(0, 4, 0.10)\n",
    "defeito"
   ]
  },
  {
   "attachments": {},
   "cell_type": "markdown",
   "metadata": {},
   "source": [
    "Exercício 4 \\\n",
    "Plote um gráfico que exiba a distribuição de probabilidade do problema descrito no exercício 3."
   ]
  },
  {
   "cell_type": "code",
   "execution_count": 90,
   "metadata": {},
   "outputs": [
    {
     "data": {
      "text/plain": [
       "<Axes: >"
      ]
     },
     "execution_count": 90,
     "metadata": {},
     "output_type": "execute_result"
    },
    {
     "data": {
      "image/png": "[encoded data removed]",
      "text/plain": [
       "<Figure size 640x480 with 1 Axes>"
      ]
     },
     "metadata": {},
     "output_type": "display_data"
    }
   ],
   "source": [
    "eixo_x = np.arange(0, 5)\n",
    "eixo_y = binom.pmf(eixo_x, 4, 0.10)\n",
    "sns.barplot(x=eixo_x, y=eixo_y)"
   ]
  },
  {
   "cell_type": "markdown",
   "metadata": {},
   "source": [
    "Exercício 5 \\\n",
    "Um teste de múltipla escolha apresenta 4 opções por questão, e 14 questões. Se a aprovação depende de 9 ou mais respostas corretas: \\\n",
    "a) qual a probabilidade de um estudante que responde “no chute” ser aprovado? \\\n",
    "b) se 500 estudantes fazem o teste, qual o número esperado de estudantes aprovados, tendo “chutado” as respostas?"
   ]
  },
  {
   "cell_type": "code",
   "execution_count": 91,
   "metadata": {},
   "outputs": [
    {
     "data": {
      "text/plain": [
       "0.0013410136853605694"
      ]
     },
     "execution_count": 91,
     "metadata": {},
     "output_type": "execute_result"
    }
   ],
   "source": [
    "binom.pmf(9, 14, 0.24)"
   ]
  },
  {
   "cell_type": "code",
   "execution_count": 92,
   "metadata": {},
   "outputs": [
    {
     "data": {
      "text/plain": [
       "0.0"
      ]
     },
     "execution_count": 92,
     "metadata": {},
     "output_type": "execute_result"
    }
   ],
   "source": [
    "binom.pmf(9, 14, 0.24, 500)"
   ]
  },
  {
   "cell_type": "markdown",
   "metadata": {},
   "source": [
    "Exercício 6 \\\n",
    "Um apostador que nada entende de futebol marcou um cartão de loteria esportiva, que tem 16 jogos, realizando apenas apostas simples (ou seja, marcando somente uma das três opções: time A vence, times A e B empatam, time B ganha). Plote um gráfico de barras que mostre a probabilidade de 0, 1, 2, ... 16 acertos."
   ]
  },
  {
   "cell_type": "code",
   "execution_count": 96,
   "metadata": {},
   "outputs": [
    {
     "data": {
      "text/plain": [
       "<Axes: >"
      ]
     },
     "execution_count": 96,
     "metadata": {},
     "output_type": "execute_result"
    },
    {
     "data": {
      "image/png": "[encoded data removed]",
      "text/plain": [
       "<Figure size 640x480 with 1 Axes>"
      ]
     },
     "metadata": {},
     "output_type": "display_data"
    }
   ],
   "source": [
    "eixo_x = np.arange(0, 17)\n",
    "eixo_y = binom.cdf(eixo_x, 16, 0.66)\n",
    "sns.barplot(x=eixo_x, y=eixo_y)\n"
   ]
  }
 ],
 "metadata": {
  "kernelspec": {
   "display_name": "base",
   "language": "python",
   "name": "python3"
  },
  "language_info": {
   "codemirror_mode": {
    "name": "ipython",
    "version": 3
   },
   "file_extension": ".py",
   "mimetype": "text/x-python",
   "name": "python",
   "nbconvert_exporter": "python",
   "pygments_lexer": "ipython3",
   "version": "3.12.4"
  },
  "orig_nbformat": 4,
  "vscode": {
   "interpreter": {
    "hash": "375cb2be7c48c11bb855aa4c37dc6c17bef886eb77cae35fc21e121628c6e1e2"
   }
  }
 },
 "nbformat": 4,
 "nbformat_minor": 2
}
