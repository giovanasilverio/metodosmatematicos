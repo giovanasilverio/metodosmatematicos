{
 "cells": [
  {
   "attachments": {},
   "cell_type": "markdown",
   "metadata": {},
   "source": [
    "## Arrays \n",
    "Diferentemente de listas, arrays só podem conter o mesmo tipo de dado. \\\n",
    "Outra particularidade importante é que Python permite a criação de arrays multidimensionais. Um array bidimensional é o que chamamos de matriz, mas é possível criar um array de múltiplas dimensões."
   ]
  },
  {
   "attachments": {},
   "cell_type": "markdown",
   "metadata": {},
   "source": [
    "Para manipular arrays temos que importar o pacote numpy. \\\n",
    "A forma mais simples de criar um array em Python é criar uma lista e transformá-la num array."
   ]
  },
  {
   "cell_type": "code",
   "execution_count": 1,
   "metadata": {},
   "outputs": [
    {
     "data": {
      "text/plain": [
       "list"
      ]
     },
     "execution_count": 1,
     "metadata": {},
     "output_type": "execute_result"
    }
   ],
   "source": [
    "import numpy as np\n",
    "a = [1,2,3]\n",
    "type(a)"
   ]
  },
  {
   "cell_type": "code",
   "execution_count": null,
   "metadata": {},
   "outputs": [],
   "source": [
    "b = np.array(a)\n",
    "b"
   ]
  },
  {
   "cell_type": "code",
   "execution_count": null,
   "metadata": {},
   "outputs": [],
   "source": [
    "type(b)"
   ]
  },
  {
   "attachments": {},
   "cell_type": "markdown",
   "metadata": {},
   "source": [
    "Da mesma forma que criamos uma lista com o método range, podemos criar um array com o método arange. \\\n",
    "Vamos criar um array contendo os elementos 0, 1, ... 9."
   ]
  },
  {
   "cell_type": "code",
   "execution_count": null,
   "metadata": {},
   "outputs": [],
   "source": [
    "c = np.arange(0,10)\n",
    "c"
   ]
  },
  {
   "attachments": {},
   "cell_type": "markdown",
   "metadata": {},
   "source": [
    "Outra alternativa para criar um array é usar o método linspace. Este método requer 3 argumentos: o número inicial, o número final e a quantidade de números no intervalo entre o número inicial e final, incluindo ambos. \\\n",
    "Vamos gerar um array de 0 a 3 com 31 itens e depois outro array de 0 a 30 com 31 itens"
   ]
  },
  {
   "cell_type": "code",
   "execution_count": null,
   "metadata": {},
   "outputs": [],
   "source": [
    "d = np.linspace(0,3,31)\n",
    "d"
   ]
  },
  {
   "cell_type": "code",
   "execution_count": null,
   "metadata": {},
   "outputs": [],
   "source": [
    "e = np.linspace(0,30,60)\n",
    "e"
   ]
  },
  {
   "attachments": {},
   "cell_type": "markdown",
   "metadata": {},
   "source": [
    "Como criar um array bidimensional (matriz)? \\\n",
    "A forma mais simples envolve criar uma lista contendo duas listas e transformar essa lista num array."
   ]
  },
  {
   "cell_type": "code",
   "execution_count": null,
   "metadata": {},
   "outputs": [],
   "source": [
    "f = [[1,2,3],[10,20,30]]\n",
    "g = np.array(f)\n",
    "g"
   ]
  },
  {
   "attachments": {},
   "cell_type": "markdown",
   "metadata": {},
   "source": [
    "Em alguns casos pode ser útil criar matrizes contendo apenas zeros ou apenas uns. \\\n",
    "Vamos criar uma matriz 3x4 contendo apenas zeros e uma matriz 4x3 contendo apenas uns. \\\n",
    "Importante: a dimensão da matriz tem que ser passada como uma tupla, ou seja, 3x4 tem que ser representado por (3, 4)."
   ]
  },
  {
   "cell_type": "code",
   "execution_count": null,
   "metadata": {},
   "outputs": [],
   "source": [
    "np.zeros((3,4))"
   ]
  },
  {
   "cell_type": "code",
   "execution_count": null,
   "metadata": {},
   "outputs": [],
   "source": [
    "np.ones((4,3))"
   ]
  },
  {
   "attachments": {},
   "cell_type": "markdown",
   "metadata": {},
   "source": [
    "Agora vamos criar uma matriz com 3 linhas e 10 colunas contendo os números de 0 a 29, dessa forma: \\\n",
    "0  ...  9 \\\n",
    "10 ... 19 \\\n",
    "20 ... 29"
   ]
  },
  {
   "attachments": {},
   "cell_type": "markdown",
   "metadata": {},
   "source": [
    "Inicialmente vamos usar o método linspace para gerar um array unidimensional contendo todos os números."
   ]
  },
  {
   "cell_type": "code",
   "execution_count": null,
   "metadata": {},
   "outputs": [],
   "source": [
    "num30 = np.linspace(0,29,30)\n",
    "num30"
   ]
  },
  {
   "cell_type": "code",
   "execution_count": null,
   "metadata": {},
   "outputs": [],
   "source": [
    "num30.shape"
   ]
  },
  {
   "attachments": {},
   "cell_type": "markdown",
   "metadata": {},
   "source": [
    "O que temos que fazer agora é mudar o formato desse vetor. Para isso usamos o método reshape."
   ]
  },
  {
   "cell_type": "code",
   "execution_count": null,
   "metadata": {},
   "outputs": [],
   "source": [
    "num30.reshape(3,10)"
   ]
  },
  {
   "attachments": {},
   "cell_type": "markdown",
   "metadata": {},
   "source": [
    "Exercício 1 \\\n",
    "Crie um array usando linspace() que contenha valores de -3.0 até +3.0 em intervalos de 0.1"
   ]
  },
  {
   "cell_type": "code",
   "execution_count": null,
   "metadata": {},
   "outputs": [],
   "source": [
    "np.linspace(-3.0,3.0,61)"
   ]
  },
  {
   "attachments": {},
   "cell_type": "markdown",
   "metadata": {},
   "source": [
    "Exercício 2 \\\n",
    "Crie um array unidimensional de 1 a 10 e depois transforme esse vetor numa matriz 2x5.\n"
   ]
  },
  {
   "cell_type": "code",
   "execution_count": null,
   "metadata": {},
   "outputs": [],
   "source": [
    "num = np.array([1,2,3,4,5,6,7,8,9,10])\n",
    "num2 = num.reshape(2,5)\n",
    "num2"
   ]
  },
  {
   "attachments": {},
   "cell_type": "markdown",
   "metadata": {},
   "source": [
    "Exercício 3 \\\n",
    "Gere uma matriz de zeros, contendo n linhas por m colunas, sendo n e m informados pelo usuário."
   ]
  },
  {
   "cell_type": "code",
   "execution_count": null,
   "metadata": {},
   "outputs": [],
   "source": [
    "linhas = int(input('Digite a quantidade de linhas: '))\n",
    "colunas = int(input('Digite a quantidade de colunas: '))\n",
    "np.zeros((linhas.colunas))"
   ]
  }
 ],
 "metadata": {
  "kernelspec": {
   "display_name": "base",
   "language": "python",
   "name": "python3"
  },
  "language_info": {
   "codemirror_mode": {
    "name": "ipython",
    "version": 3
   },
   "file_extension": ".py",
   "mimetype": "text/x-python",
   "name": "python",
   "nbconvert_exporter": "python",
   "pygments_lexer": "ipython3",
   "version": "3.12.4"
  },
  "orig_nbformat": 4,
  "vscode": {
   "interpreter": {
    "hash": "375cb2be7c48c11bb855aa4c37dc6c17bef886eb77cae35fc21e121628c6e1e2"
   }
  }
 },
 "nbformat": 4,
 "nbformat_minor": 2
}
